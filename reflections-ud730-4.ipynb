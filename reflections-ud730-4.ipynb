{
 "cells": [
  {
   "cell_type": "markdown",
   "metadata": {},
   "source": [
    "# &#x1F4D1; &nbsp; <span style=\"color:red\"> Reflections. Deep Learning. Lesson 4</span>"
   ]
  },
  {
   "cell_type": "markdown",
   "metadata": {},
   "source": [
    "##   &#x1F916; &nbsp; <span style=\"color:red\">Links</span>"
   ]
  },
  {
   "cell_type": "code",
   "execution_count": null,
   "metadata": {
    "collapsed": true
   },
   "outputs": [],
   "source": []
  },
  {
   "cell_type": "code",
   "execution_count": null,
   "metadata": {
    "collapsed": true
   },
   "outputs": [],
   "source": []
  },
  {
   "cell_type": "markdown",
   "metadata": {},
   "source": [
    "##   &#x1F916; &nbsp; <span style=\"color:red\">Libraries</span>"
   ]
  },
  {
   "cell_type": "code",
   "execution_count": 1,
   "metadata": {
    "collapsed": false
   },
   "outputs": [
    {
     "name": "stdout",
     "output_type": "stream",
     "text": [
      "Populating the interactive namespace from numpy and matplotlib\n"
     ]
    }
   ],
   "source": [
    "%pylab inline\n",
    "from __future__ import print_function\n",
    "import collections\n",
    "import math\n",
    "import numpy as np\n",
    "import os\n",
    "import random\n",
    "import tensorflow as tf\n",
    "import zipfile\n",
    "from matplotlib import pylab\n",
    "from six.moves import range\n",
    "from six.moves.urllib.request import urlretrieve\n",
    "from sklearn.manifold import TSNE"
   ]
  },
  {
   "cell_type": "code",
   "execution_count": null,
   "metadata": {
    "collapsed": true
   },
   "outputs": [],
   "source": []
  },
  {
   "cell_type": "markdown",
   "metadata": {},
   "source": [
    "##   &#x1F916; &nbsp; <span style=\"color:red\">Deep Models for Text and Sequences </span>"
   ]
  },
  {
   "cell_type": "code",
   "execution_count": null,
   "metadata": {
    "collapsed": true
   },
   "outputs": [],
   "source": []
  },
  {
   "cell_type": "code",
   "execution_count": null,
   "metadata": {
    "collapsed": true
   },
   "outputs": [],
   "source": []
  },
  {
   "cell_type": "code",
   "execution_count": null,
   "metadata": {
    "collapsed": true
   },
   "outputs": [],
   "source": []
  },
  {
   "cell_type": "code",
   "execution_count": null,
   "metadata": {
    "collapsed": true
   },
   "outputs": [],
   "source": []
  },
  {
   "cell_type": "markdown",
   "metadata": {},
   "source": [
    "##   &#x1F916; &nbsp; <span style=\"color:red\">Assignment 5: Word2Vec and CBOW</span>"
   ]
  },
  {
   "cell_type": "code",
   "execution_count": 2,
   "metadata": {
    "collapsed": false
   },
   "outputs": [
    {
     "name": "stdout",
     "output_type": "stream",
     "text": [
      "Found and verified text8.zip\n"
     ]
    }
   ],
   "source": [
    "url = 'http://mattmahoney.net/dc/'\n",
    "\n",
    "def maybe_download(filename, expected_bytes):\n",
    "    \"\"\"Download a file if not present, and make sure it's the right size.\"\"\"\n",
    "    if not os.path.exists(filename):\n",
    "        filename, _ = urlretrieve(url + filename, filename)\n",
    "    statinfo = os.stat(filename)\n",
    "    if statinfo.st_size == expected_bytes:\n",
    "        print('Found and verified %s' % filename)\n",
    "    else:\n",
    "        print(statinfo.st_size)\n",
    "        raise Exception('Failed to verify ' + filename + '. Can you get to it with a browser?')\n",
    "    return filename\n",
    "\n",
    "filename = maybe_download('text8.zip', 31344016)"
   ]
  },
  {
   "cell_type": "code",
   "execution_count": 3,
   "metadata": {
    "collapsed": false
   },
   "outputs": [
    {
     "name": "stdout",
     "output_type": "stream",
     "text": [
      "Data size 17005207\n"
     ]
    }
   ],
   "source": [
    "def read_data(filename):\n",
    "    \"\"\"Extract the first file enclosed in a zip file as a list of words\"\"\"\n",
    "    with zipfile.ZipFile(filename) as f:\n",
    "        data = tf.compat.as_str(f.read(f.namelist()[0])).split()\n",
    "    return data\n",
    "  \n",
    "words = read_data(filename)\n",
    "print('Data size %d' % len(words))"
   ]
  },
  {
   "cell_type": "code",
   "execution_count": 4,
   "metadata": {
    "collapsed": false
   },
   "outputs": [
    {
     "name": "stdout",
     "output_type": "stream",
     "text": [
      "Most common words (+UNK) [['UNK', 418391], ('the', 1061396), ('of', 593677), ('and', 416629), ('one', 411764)]\n",
      "Sample data [5243, 3082, 12, 6, 195, 2, 3135, 46, 59, 156]\n"
     ]
    }
   ],
   "source": [
    "vocabulary_size = 50000\n",
    "\n",
    "def build_dataset(words):\n",
    "    count = [['UNK', -1]]\n",
    "    count.extend(collections.Counter(words).most_common(vocabulary_size - 1))\n",
    "    dictionary = dict()\n",
    "    for word, _ in count:\n",
    "        dictionary[word] = len(dictionary)\n",
    "    data = list()\n",
    "    unk_count = 0\n",
    "    for word in words:\n",
    "        if word in dictionary:\n",
    "            index = dictionary[word]\n",
    "        else:\n",
    "            index = 0  # dictionary['UNK']\n",
    "            unk_count = unk_count + 1\n",
    "        data.append(index)\n",
    "    count[0][1] = unk_count\n",
    "    reverse_dictionary = dict(zip(dictionary.values(), dictionary.keys())) \n",
    "    return data, count, dictionary, reverse_dictionary\n",
    "\n",
    "data, count, dictionary, reverse_dictionary = build_dataset(words)\n",
    "print('Most common words (+UNK)', count[:5])\n",
    "print('Sample data', data[:10])\n",
    "del words  # Hint to reduce memory."
   ]
  },
  {
   "cell_type": "code",
   "execution_count": 5,
   "metadata": {
    "collapsed": false
   },
   "outputs": [
    {
     "name": "stdout",
     "output_type": "stream",
     "text": [
      "data: ['anarchism', 'originated', 'as', 'a', 'term', 'of', 'abuse', 'first']\n",
      "\n",
      "with num_skips = 2 and skip_window = 1:\n",
      "    batch: ['originated', 'originated', 'as', 'as', 'a', 'a', 'term', 'term']\n",
      "    labels: ['anarchism', 'as', 'a', 'originated', 'as', 'term', 'of', 'a']\n",
      "\n",
      "with num_skips = 4 and skip_window = 2:\n",
      "    batch: ['as', 'as', 'as', 'as', 'a', 'a', 'a', 'a']\n",
      "    labels: ['a', 'anarchism', 'originated', 'term', 'as', 'originated', 'of', 'term']\n"
     ]
    }
   ],
   "source": [
    "data_index = 0\n",
    "\n",
    "def generate_batch(batch_size, num_skips, skip_window):\n",
    "    global data_index\n",
    "    assert batch_size % num_skips == 0\n",
    "    assert num_skips <= 2 * skip_window\n",
    "    batch = np.ndarray(shape=(batch_size), dtype=np.int32)\n",
    "    labels = np.ndarray(shape=(batch_size, 1), dtype=np.int32)\n",
    "    span = 2 * skip_window + 1 # [ skip_window target skip_window ]\n",
    "    buffer = collections.deque(maxlen=span)\n",
    "    for _ in range(span):\n",
    "        buffer.append(data[data_index])\n",
    "        data_index = (data_index + 1) % len(data)\n",
    "    for i in range(batch_size // num_skips):\n",
    "        target = skip_window  # target label at the center of the buffer\n",
    "        targets_to_avoid = [ skip_window ]\n",
    "        for j in range(num_skips):\n",
    "            while target in targets_to_avoid:\n",
    "                target = random.randint(0, span - 1)\n",
    "            targets_to_avoid.append(target)\n",
    "            batch[i * num_skips + j] = buffer[skip_window]\n",
    "            labels[i * num_skips + j, 0] = buffer[target]\n",
    "        buffer.append(data[data_index])\n",
    "        data_index = (data_index + 1) % len(data)\n",
    "    return batch, labels\n",
    "\n",
    "print('data:', [reverse_dictionary[di] for di in data[:8]])\n",
    "\n",
    "for num_skips, skip_window in [(2, 1), (4, 2)]:\n",
    "    data_index = 0\n",
    "    batch, labels = generate_batch(batch_size=8, num_skips=num_skips, skip_window=skip_window)\n",
    "    print('\\nwith num_skips = %d and skip_window = %d:' % (num_skips, skip_window))\n",
    "    print('    batch:', [reverse_dictionary[bi] for bi in batch])\n",
    "    print('    labels:', [reverse_dictionary[li] for li in labels.reshape(8)])"
   ]
  },
  {
   "cell_type": "code",
   "execution_count": 6,
   "metadata": {
    "collapsed": true
   },
   "outputs": [],
   "source": [
    "batch_size = 128\n",
    "embedding_size = 128 # Dimension of the embedding vector.\n",
    "skip_window = 1 # How many words to consider left and right.\n",
    "num_skips = 2 # How many times to reuse an input to generate a label.\n",
    "# We pick a random validation set to sample nearest neighbors. here we limit the\n",
    "# validation samples to the words that have a low numeric ID, which by\n",
    "# construction are also the most frequent. \n",
    "valid_size = 16 # Random set of words to evaluate similarity on.\n",
    "valid_window = 100 # Only pick dev samples in the head of the distribution.\n",
    "valid_examples = np.array(random.sample(range(valid_window), valid_size))\n",
    "num_sampled = 64 # Number of negative examples to sample.\n",
    "\n",
    "graph = tf.Graph()\n",
    "\n",
    "with graph.as_default(), tf.device('/cpu:0'):\n",
    "\n",
    "    # Input data.\n",
    "    train_dataset = tf.placeholder(tf.int32, shape=[batch_size])\n",
    "    train_labels = tf.placeholder(tf.int32, shape=[batch_size, 1])\n",
    "    valid_dataset = tf.constant(valid_examples, dtype=tf.int32)\n",
    "  \n",
    "    # Variables.\n",
    "    embeddings = tf.Variable(tf.random_uniform([vocabulary_size, embedding_size], -1.0, 1.0))\n",
    "    softmax_weights = tf.Variable(tf.truncated_normal([vocabulary_size, embedding_size],\n",
    "                                                      stddev=1.0 / math.sqrt(embedding_size)))\n",
    "    softmax_biases = tf.Variable(tf.zeros([vocabulary_size]))\n",
    "  \n",
    "    # Model.\n",
    "    # Look up embeddings for inputs.\n",
    "    embed = tf.nn.embedding_lookup(embeddings, train_dataset)\n",
    "    # Compute the softmax loss, using a sample of the negative labels each time.\n",
    "    loss = tf.reduce_mean(tf.nn.sampled_softmax_loss(weights=softmax_weights, biases=softmax_biases, \n",
    "                                                     inputs=embed, labels=train_labels, \n",
    "                                                     num_sampled=num_sampled, num_classes=vocabulary_size))\n",
    "\n",
    "    # Optimizer.\n",
    "    # Note: The optimizer will optimize the softmax_weights AND the embeddings.\n",
    "    # This is because the embeddings are defined as a variable quantity and the\n",
    "    # optimizer's `minimize` method will by default modify all variable quantities \n",
    "    # that contribute to the tensor it is passed.\n",
    "    # See docs on `tf.train.Optimizer.minimize()` for more details.\n",
    "    optimizer = tf.train.AdagradOptimizer(1.0).minimize(loss)\n",
    "  \n",
    "    # Compute the similarity between minibatch examples and all embeddings.\n",
    "    # We use the cosine distance:\n",
    "    norm = tf.sqrt(tf.reduce_sum(tf.square(embeddings), 1, keep_dims=True))\n",
    "    normalized_embeddings = embeddings / norm\n",
    "    valid_embeddings = tf.nn.embedding_lookup(normalized_embeddings, valid_dataset)\n",
    "    similarity = tf.matmul(valid_embeddings, tf.transpose(normalized_embeddings))"
   ]
  },
  {
   "cell_type": "code",
   "execution_count": 7,
   "metadata": {
    "collapsed": false
   },
   "outputs": [
    {
     "name": "stdout",
     "output_type": "stream",
     "text": [
      "Initialized\n",
      "Average loss at step 0: 8.171307\n",
      "Nearest to not: seniority, brat, foreseen, stretch, transcendence, forster, patched, hideout,\n",
      "Nearest to at: masamune, subject, belgrano, eridanus, puget, reprisals, reacted, slovak,\n",
      "Nearest to about: nocturnal, bryozoans, nabba, messianic, lent, guarneri, mothra, redemptive,\n",
      "Nearest to from: ladders, cured, vfa, certificates, magister, primer, outage, confining,\n",
      "Nearest to history: hokku, percy, uvular, locker, rally, affliction, mutinies, mallet,\n",
      "Nearest to up: aafc, lows, cameroon, cimmeria, jima, humanitarians, clicked, organizational,\n",
      "Nearest to or: embrace, degenerative, balas, townes, hollow, jesus, warning, ips,\n",
      "Nearest to will: witnesses, hunger, lifecycle, anxiolytics, formless, albigensian, grayson, zbigniew,\n",
      "Nearest to as: sideband, faster, vacuoles, photons, bahamas, ikea, shallow, malmesbury,\n",
      "Nearest to war: piso, raza, disallowed, magdalena, exchequer, conveys, marwan, teutonic,\n",
      "Nearest to nine: edge, hrothgar, account, pumpkins, naia, nigsberg, earnestly, totalled,\n",
      "Nearest to see: ecclesiastica, waterproof, humphries, handball, straightening, undefeated, fostering, jew,\n",
      "Nearest to which: slider, strat, disqualified, anticipates, cameron, earls, modernists, intrigued,\n",
      "Nearest to zero: poly, gascon, womanizer, possess, penalty, brahmic, rocker, deprive,\n",
      "Nearest to often: forties, staples, andrea, ftl, hoch, hypomania, enzyme, lahoud,\n",
      "Nearest to the: competences, postponed, revenue, att, scotch, addressee, unsuitable, collects,\n",
      "Average loss at step 2000: 4.365076\n",
      "Average loss at step 4000: 3.866682\n",
      "Average loss at step 6000: 3.787837\n",
      "Average loss at step 8000: 3.689792\n",
      "Average loss at step 10000: 3.621273\n",
      "Nearest to not: they, it, harmonic, there, sometimes, also, charcoal, considered,\n",
      "Nearest to at: in, yelling, on, with, by, puget, after, from,\n",
      "Nearest to about: nocturnal, franca, crew, rulers, digby, bagoas, dhaka, delineate,\n",
      "Nearest to from: in, by, through, gbp, with, pigweed, barr, miniaturization,\n",
      "Nearest to history: philosophy, percy, cura, locker, glorioso, mallet, non, list,\n",
      "Nearest to up: lows, gaucho, jima, supp, bipartisan, kushner, reckoned, computing,\n",
      "Nearest to or: and, supplementary, instructional, esaf, theosophy, embrace, balas, ale,\n",
      "Nearest to will: witnesses, can, lifecycle, anxiolytics, imprisonment, ther, per, sociopathic,\n",
      "Nearest to as: sideband, vacuoles, ore, by, midwestern, vermin, swam, harmonicas,\n",
      "Nearest to war: teutonic, piso, targum, exchequer, marwan, apotheosis, stine, longstanding,\n",
      "Nearest to nine: eight, six, five, seven, zero, three, four, two,\n",
      "Nearest to see: waterproof, vowel, humphries, hodges, glam, linguists, aims, equalled,\n",
      "Nearest to which: this, it, that, also, who, one, nehemiah, honest,\n",
      "Nearest to zero: nine, six, eight, five, seven, three, four, two,\n",
      "Nearest to often: usually, commonly, chilled, also, ludwig, roof, it, staples,\n",
      "Nearest to the: a, its, this, his, broadband, shunt, their, cfc,\n",
      "Average loss at step 12000: 3.603672\n",
      "Average loss at step 14000: 3.574570\n",
      "Average loss at step 16000: 3.411473\n",
      "Average loss at step 18000: 3.455905\n",
      "Average loss at step 20000: 3.540387\n",
      "Nearest to not: still, considered, it, also, sometimes, they, generally, harmonic,\n",
      "Nearest to at: in, during, after, from, on, with, svenska, around,\n",
      "Nearest to about: nocturnal, farm, digby, crew, franca, raiders, telophase, ro,\n",
      "Nearest to from: into, through, after, in, at, by, between, negroponte,\n",
      "Nearest to history: philosophy, list, locker, percy, cura, zeppelins, development, titles,\n",
      "Nearest to up: lows, gaucho, them, kushner, computing, wheelock, jima, modalities,\n",
      "Nearest to or: and, than, instructional, sacs, esaf, bounty, iwo, monazite,\n",
      "Nearest to will: can, would, must, may, witnesses, could, should, lifecycle,\n",
      "Nearest to as: harmonicas, erroneously, sulaiman, horton, biases, msc, be, ore,\n",
      "Nearest to war: teutonic, almaty, marwan, stine, apotheosis, longstanding, disallowed, twelve,\n",
      "Nearest to nine: eight, six, seven, five, four, zero, three, two,\n",
      "Nearest to see: phyla, humphries, but, linguists, sidereal, afternoon, suffer, eudes,\n",
      "Nearest to which: that, this, who, it, also, but, aptly, what,\n",
      "Nearest to zero: five, six, seven, eight, nine, four, three, two,\n",
      "Nearest to often: usually, commonly, sometimes, also, who, frequently, ludwig, it,\n",
      "Nearest to the: its, their, this, a, his, any, an, another,\n",
      "Average loss at step 22000: 3.504270\n",
      "Average loss at step 24000: 3.490744\n",
      "Average loss at step 26000: 3.481164\n",
      "Average loss at step 28000: 3.479440\n",
      "Average loss at step 30000: 3.504070\n",
      "Nearest to not: they, still, generally, it, there, probably, sometimes, considered,\n",
      "Nearest to at: in, around, after, during, delusions, on, address, svenska,\n",
      "Nearest to about: nocturnal, historic, telophase, farm, dikes, transported, retrofitted, dhaka,\n",
      "Nearest to from: into, after, through, in, modesty, of, gbp, across,\n",
      "Nearest to history: philosophy, list, development, formation, titles, mallet, seymour, percy,\n",
      "Nearest to up: them, lows, him, computing, gaucho, greyface, kannapolis, modalities,\n",
      "Nearest to or: and, licht, handlers, interestingly, supplementary, laurence, taunting, beauharnais,\n",
      "Nearest to will: can, would, may, must, should, could, shall, cannot,\n",
      "Nearest to as: when, waged, msc, msg, biases, baekje, sulaiman, harmonicas,\n",
      "Nearest to war: teutonic, apotheosis, hemispheric, almaty, targum, stayed, along, holdings,\n",
      "Nearest to nine: eight, seven, six, five, four, three, zero, two,\n",
      "Nearest to see: humphries, afternoon, but, sidereal, scurvy, suffer, marcantonio, blotter,\n",
      "Nearest to which: this, that, what, who, it, but, also, align,\n",
      "Nearest to zero: five, seven, eight, four, six, nine, three, two,\n",
      "Nearest to often: usually, commonly, sometimes, generally, frequently, also, still, always,\n",
      "Nearest to the: their, its, his, her, broadband, a, syllabus, csf,\n",
      "Average loss at step 32000: 3.503431\n",
      "Average loss at step 34000: 3.494282\n",
      "Average loss at step 36000: 3.456978\n",
      "Average loss at step 38000: 3.302415\n",
      "Average loss at step 40000: 3.431690\n",
      "Nearest to not: they, generally, it, still, considered, now, charcoal, sometimes,\n",
      "Nearest to at: during, on, around, zapu, until, in, cooled, phases,\n",
      "Nearest to about: nocturnal, ro, rabi, farm, transported, repetitive, historic, ebcdic,\n",
      "Nearest to from: into, after, through, inconspicuous, during, in, between, of,\n",
      "Nearest to history: philosophy, list, mallet, denial, formation, cura, rias, development,\n",
      "Nearest to up: them, him, out, computing, lows, back, dq, gaucho,\n",
      "Nearest to or: and, than, puritan, a, geoffrey, supplementary, sprinkling, hostilities,\n",
      "Nearest to will: can, would, must, may, could, should, cannot, shall,\n",
      "Nearest to as: stylised, be, harbin, bootstrap, preterite, by, disposition, okeh,\n",
      "Nearest to war: teutonic, apotheosis, lizzy, nuit, almaty, exchequer, magdalena, longstanding,\n",
      "Nearest to nine: eight, seven, six, five, four, zero, three, one,\n",
      "Nearest to see: scurvy, blotter, afternoon, lowell, known, milligan, fd, marcantonio,\n",
      "Nearest to which: that, this, who, what, also, often, it, there,\n",
      "Nearest to zero: seven, five, nine, eight, six, three, four, two,\n",
      "Nearest to often: usually, sometimes, commonly, generally, also, who, frequently, still,\n",
      "Nearest to the: his, this, its, a, their, any, each, another,\n",
      "Average loss at step 42000: 3.435770\n",
      "Average loss at step 44000: 3.453452\n",
      "Average loss at step 46000: 3.451179\n",
      "Average loss at step 48000: 3.353427\n",
      "Average loss at step 50000: 3.385033\n",
      "Nearest to not: generally, now, still, they, sometimes, clearly, considered, it,\n",
      "Nearest to at: during, around, on, svenska, zapu, asa, flutie, chissano,\n",
      "Nearest to about: nocturnal, transported, dikes, repetitive, rhodes, buckminsterfullerene, contemplative, pdas,\n",
      "Nearest to from: into, after, through, in, inconspicuous, between, during, across,\n",
      "Nearest to history: list, philosophy, zeppelins, clergyman, titles, formation, denial, mallet,\n",
      "Nearest to up: them, out, him, off, down, dq, inquire, lows,\n",
      "Nearest to or: and, than, butterflies, fruition, outnumbered, com, while, toad,\n",
      "Nearest to will: would, can, must, could, may, should, cannot, shall,\n",
      "Nearest to as: after, mnr, bootstrap, biases, centralisation, parkes, when, pueblo,\n",
      "Nearest to war: apotheosis, teutonic, nuit, regulated, holdings, lizzy, almaty, magdalena,\n",
      "Nearest to nine: eight, seven, six, four, five, three, zero, one,\n",
      "Nearest to see: gottlieb, scurvy, list, pop, wigner, suspect, thereabouts, enigmas,\n",
      "Nearest to which: that, this, also, who, what, often, now, there,\n",
      "Nearest to zero: five, seven, eight, nine, six, four, three, two,\n",
      "Nearest to often: usually, sometimes, commonly, generally, frequently, still, now, also,\n",
      "Nearest to the: its, this, their, any, a, raj, his, some,\n",
      "Average loss at step 52000: 3.437532\n",
      "Average loss at step 54000: 3.426719\n",
      "Average loss at step 56000: 3.437957\n",
      "Average loss at step 58000: 3.395204\n",
      "Average loss at step 60000: 3.392957\n",
      "Nearest to not: still, generally, now, actually, it, usually, they, charcoal,\n",
      "Nearest to at: in, during, zapu, svenska, jar, somewhat, before, flutie,\n",
      "Nearest to about: nocturnal, transported, dikes, digby, over, pdas, farm, contemplative,\n",
      "Nearest to from: into, through, in, after, between, miniaturization, inconspicuous, within,\n",
      "Nearest to history: philosophy, list, zeppelins, age, administrative, mallet, formation, canadian,\n",
      "Nearest to up: them, out, him, down, off, back, together, lows,\n",
      "Nearest to or: and, than, butterflies, but, com, thoroughfare, fruition, prayers,\n",
      "Nearest to will: would, can, must, could, may, should, cannot, might,\n",
      "Nearest to as: msc, stylised, too, kissinger, parkes, centralisation, when, became,\n",
      "Nearest to war: waned, exchequer, nuit, teutonic, almaty, lizzy, hemispheric, thoroughbred,\n",
      "Nearest to nine: eight, six, seven, four, five, three, zero, one,\n",
      "Nearest to see: include, external, list, but, including, vodafone, includes, called,\n",
      "Nearest to which: that, this, what, who, based, it, these, there,\n",
      "Nearest to zero: five, four, seven, eight, six, nine, three, two,\n",
      "Nearest to often: sometimes, usually, commonly, generally, frequently, still, also, now,\n",
      "Nearest to the: its, their, a, each, some, any, raj, this,\n",
      "Average loss at step 62000: 3.244000\n",
      "Average loss at step 64000: 3.260204\n",
      "Average loss at step 66000: 3.401980\n",
      "Average loss at step 68000: 3.397509\n",
      "Average loss at step 70000: 3.361809\n",
      "Nearest to not: generally, still, now, bladed, never, we, usually, actually,\n",
      "Nearest to at: during, somewhat, jar, zapu, cooled, erowid, around, svenska,\n",
      "Nearest to about: over, transported, pdas, dikes, regarding, contemplative, overtaking, bracelet,\n",
      "Nearest to from: through, into, between, inconspicuous, in, ladders, before, via,\n",
      "Nearest to history: list, zeppelins, encyclopedia, philosophy, age, ambulatory, appropriating, explosion,\n",
      "Nearest to up: them, off, out, down, back, him, together, dq,\n",
      "Nearest to or: and, than, while, sadly, tetzel, toward, com, any,\n",
      "Nearest to will: would, could, must, can, may, should, might, cannot,\n",
      "Nearest to as: msc, kissinger, kinetic, enthusiast, too, hemiparesis, menno, bootstrap,\n",
      "Nearest to war: teutonic, nuit, exchequer, thoroughbred, waned, regulated, lizzy, hemispheric,\n",
      "Nearest to nine: eight, six, seven, five, four, three, zero, one,\n",
      "Nearest to see: list, include, according, but, external, and, send, roberto,\n",
      "Nearest to which: that, this, what, but, also, terracotta, who, these,\n",
      "Nearest to zero: five, seven, six, eight, four, nine, two, three,\n",
      "Nearest to often: usually, sometimes, commonly, generally, frequently, now, still, typically,\n",
      "Nearest to the: their, its, a, this, these, our, any, each,\n",
      "Average loss at step 72000: 3.371166\n",
      "Average loss at step 74000: 3.342572\n",
      "Average loss at step 76000: 3.317626\n",
      "Average loss at step 78000: 3.353400\n",
      "Average loss at step 80000: 3.378947\n",
      "Nearest to not: still, generally, actually, usually, now, often, bladed, never,\n",
      "Nearest to at: in, around, during, before, declines, after, joseon, on,\n",
      "Nearest to about: transported, over, approximately, pdas, regarding, dikes, bracelet, paragliding,\n",
      "Nearest to from: through, into, inconspicuous, after, between, within, before, via,\n",
      "Nearest to history: philosophy, list, cura, encyclopedia, ambulatory, zeppelins, administrative, cataloguing,\n",
      "Nearest to up: them, down, out, off, him, together, back, dq,\n",
      "Nearest to or: and, than, while, com, butterflies, regnum, prayers, instructive,\n",
      "Nearest to will: would, could, can, must, may, should, might, cannot,\n",
      "Nearest to as: bootstrap, including, supplementation, before, dandyism, pending, overpopulation, preterite,\n",
      "Nearest to war: waned, almaty, soviet, teutonic, wars, hemispheric, nuit, ioi,\n",
      "Nearest to nine: eight, seven, five, six, four, three, zero, one,\n",
      "Nearest to see: but, include, according, includes, pop, list, including, known,\n",
      "Nearest to which: that, this, who, what, usually, terracotta, but, also,\n",
      "Nearest to zero: five, seven, eight, six, four, nine, three, two,\n",
      "Nearest to often: sometimes, usually, commonly, generally, frequently, typically, still, now,\n",
      "Nearest to the: its, this, their, his, disagreeable, broadband, a, another,\n",
      "Average loss at step 82000: 3.408699\n",
      "Average loss at step 84000: 3.408373\n",
      "Average loss at step 86000: 3.392064\n",
      "Average loss at step 88000: 3.354372\n",
      "Average loss at step 90000: 3.364597\n",
      "Nearest to not: still, generally, actually, we, now, never, it, therefore,\n",
      "Nearest to at: during, around, in, flutie, under, zapu, on, cooled,\n",
      "Nearest to about: regarding, britannica, contemplative, over, dikes, digby, bracelet, groening,\n",
      "Nearest to from: through, into, during, between, via, after, within, before,\n",
      "Nearest to history: list, philosophy, ambulatory, encyclopedia, administrative, appropriating, chroniclers, age,\n",
      "Nearest to up: out, down, off, together, them, back, him, dq,\n",
      "Nearest to or: and, prayers, strict, hemiparesis, than, but, finkelstein, com,\n",
      "Nearest to will: would, could, can, must, should, may, might, cannot,\n",
      "Nearest to as: bootstrap, including, kissinger, stylised, parkes, owsley, laden, basil,\n",
      "Nearest to war: waned, soviet, lizzy, poses, ioi, wars, genovese, almaty,\n",
      "Nearest to nine: eight, seven, six, five, four, three, zero, two,\n",
      "Nearest to see: list, includes, references, include, gottlieb, including, lifespans, pop,\n",
      "Nearest to which: that, this, also, what, typically, usually, actually, these,\n",
      "Nearest to zero: five, seven, eight, six, nine, four, three, two,\n",
      "Nearest to often: usually, sometimes, commonly, generally, frequently, typically, now, still,\n",
      "Nearest to the: its, this, any, his, a, broadband, their, raj,\n",
      "Average loss at step 92000: 3.398970\n",
      "Average loss at step 94000: 3.255504\n",
      "Average loss at step 96000: 3.364314\n",
      "Average loss at step 98000: 3.246036\n",
      "Average loss at step 100000: 3.358101\n",
      "Nearest to not: actually, generally, still, never, they, quite, now, stub,\n",
      "Nearest to at: during, around, in, after, on, before, zapu, once,\n",
      "Nearest to about: regarding, approximately, groening, transported, redeveloped, britannica, over, pdas,\n",
      "Nearest to from: into, through, in, during, within, across, miniaturization, via,\n",
      "Nearest to history: list, biography, encyclopedia, subjugation, dysfunctional, documentaries, science, geography,\n",
      "Nearest to up: off, out, down, together, back, them, him, dq,\n",
      "Nearest to or: and, than, while, even, tetzel, intimacy, hotline, sadly,\n",
      "Nearest to will: would, can, could, must, should, may, might, cannot,\n",
      "Nearest to as: like, msc, including, kissinger, rioters, enthusiast, yaoi, laden,\n",
      "Nearest to war: waned, soviet, genovese, almaty, nuit, plugged, wars, pox,\n",
      "Nearest to nine: eight, seven, six, four, five, three, zero, one,\n",
      "Nearest to see: references, list, includes, tlatoani, links, external, include, roberto,\n",
      "Nearest to which: that, this, what, typically, actually, usually, but, also,\n",
      "Nearest to zero: five, eight, four, seven, six, nine, three, two,\n",
      "Nearest to often: sometimes, usually, commonly, generally, frequently, typically, now, still,\n",
      "Nearest to the: its, a, their, his, each, our, some, whose,\n"
     ]
    }
   ],
   "source": [
    "num_steps = 100001\n",
    "\n",
    "with tf.Session(graph=graph) as session:\n",
    "    tf.global_variables_initializer().run()\n",
    "    print('Initialized')\n",
    "    average_loss = 0\n",
    "    for step in range(num_steps):\n",
    "        batch_data, batch_labels = generate_batch(batch_size, num_skips, skip_window)\n",
    "        feed_dict = {train_dataset : batch_data, train_labels : batch_labels}\n",
    "        _, l = session.run([optimizer, loss], feed_dict=feed_dict)\n",
    "        average_loss += l\n",
    "        if step % 2000 == 0:\n",
    "            if step > 0:\n",
    "                average_loss = average_loss / 2000\n",
    "            # The average loss is an estimate of the loss over the last 2000 batches.\n",
    "            print('Average loss at step %d: %f' % (step, average_loss))\n",
    "            average_loss = 0\n",
    "        # note that this is expensive (~20% slowdown if computed every 500 steps)\n",
    "        if step % 10000 == 0:\n",
    "            sim = similarity.eval()\n",
    "            for i in range(valid_size):\n",
    "                valid_word = reverse_dictionary[valid_examples[i]]\n",
    "                top_k = 8 # number of nearest neighbors\n",
    "                nearest = (-sim[i, :]).argsort()[1:top_k+1]\n",
    "                log = 'Nearest to %s:' % valid_word\n",
    "                for k in range(top_k):\n",
    "                    close_word = reverse_dictionary[nearest[k]]\n",
    "                    log = '%s %s,' % (log, close_word)\n",
    "                print(log)\n",
    "    final_embeddings = normalized_embeddings.eval()"
   ]
  },
  {
   "cell_type": "code",
   "execution_count": 10,
   "metadata": {
    "collapsed": false
   },
   "outputs": [
    {
     "data": {
      "text/plain": [
       "array([[ 0.03125986, -0.04636753,  0.08574197, ...,  0.00027682,\n",
       "         0.0123942 ,  0.08054283],\n",
       "       [ 0.01323141, -0.04308727, -0.01879899, ...,  0.03465259,\n",
       "        -0.01604492,  0.06559876],\n",
       "       [ 0.10363604, -0.07105461, -0.06664887, ...,  0.0135475 ,\n",
       "        -0.00078312, -0.0562572 ],\n",
       "       ..., \n",
       "       [ 0.00182409,  0.11451159,  0.20129129, ..., -0.00653849,\n",
       "        -0.04358725, -0.09156876],\n",
       "       [-0.0150354 ,  0.03103729, -0.1696799 , ...,  0.06028234,\n",
       "         0.05485549, -0.1781875 ],\n",
       "       [ 0.01532295,  0.04916836,  0.03595094, ..., -0.10944532,\n",
       "         0.06611454,  0.08588088]], dtype=float32)"
      ]
     },
     "execution_count": 10,
     "metadata": {},
     "output_type": "execute_result"
    }
   ],
   "source": [
    "final_embeddings[1:num_points+1, :]"
   ]
  },
  {
   "cell_type": "code",
   "execution_count": 11,
   "metadata": {
    "collapsed": false
   },
   "outputs": [
    {
     "ename": "ValueError",
     "evalue": "array must not contain infs or NaNs",
     "output_type": "error",
     "traceback": [
      "\u001b[0;31m---------------------------------------------------------------------------\u001b[0m",
      "\u001b[0;31mValueError\u001b[0m                                Traceback (most recent call last)",
      "\u001b[0;32m<ipython-input-11-f70c03698d67>\u001b[0m in \u001b[0;36m<module>\u001b[0;34m()\u001b[0m\n\u001b[1;32m      2\u001b[0m \u001b[0;34m\u001b[0m\u001b[0m\n\u001b[1;32m      3\u001b[0m \u001b[0mtsne\u001b[0m \u001b[0;34m=\u001b[0m \u001b[0mTSNE\u001b[0m\u001b[0;34m(\u001b[0m\u001b[0mperplexity\u001b[0m\u001b[0;34m=\u001b[0m\u001b[0;36m30\u001b[0m\u001b[0;34m,\u001b[0m \u001b[0mn_components\u001b[0m\u001b[0;34m=\u001b[0m\u001b[0;36m2\u001b[0m\u001b[0;34m,\u001b[0m \u001b[0minit\u001b[0m\u001b[0;34m=\u001b[0m\u001b[0;34m'pca'\u001b[0m\u001b[0;34m,\u001b[0m \u001b[0mn_iter\u001b[0m\u001b[0;34m=\u001b[0m\u001b[0;36m5000\u001b[0m\u001b[0;34m)\u001b[0m\u001b[0;34m\u001b[0m\u001b[0m\n\u001b[0;32m----> 4\u001b[0;31m \u001b[0mtwo_d_embeddings\u001b[0m \u001b[0;34m=\u001b[0m \u001b[0mtsne\u001b[0m\u001b[0;34m.\u001b[0m\u001b[0mfit_transform\u001b[0m\u001b[0;34m(\u001b[0m\u001b[0mfinal_embeddings\u001b[0m\u001b[0;34m[\u001b[0m\u001b[0;36m1\u001b[0m\u001b[0;34m:\u001b[0m\u001b[0mnum_points\u001b[0m\u001b[0;34m+\u001b[0m\u001b[0;36m1\u001b[0m\u001b[0;34m,\u001b[0m \u001b[0;34m:\u001b[0m\u001b[0;34m]\u001b[0m\u001b[0;34m)\u001b[0m\u001b[0;34m\u001b[0m\u001b[0m\n\u001b[0m",
      "\u001b[0;32m/Users/olgabelitskaya/anaconda/lib/python3.5/site-packages/sklearn/manifold/t_sne.py\u001b[0m in \u001b[0;36mfit_transform\u001b[0;34m(self, X, y)\u001b[0m\n\u001b[1;32m    882\u001b[0m             \u001b[0mEmbedding\u001b[0m \u001b[0mof\u001b[0m \u001b[0mthe\u001b[0m \u001b[0mtraining\u001b[0m \u001b[0mdata\u001b[0m \u001b[0;32min\u001b[0m \u001b[0mlow\u001b[0m\u001b[0;34m-\u001b[0m\u001b[0mdimensional\u001b[0m \u001b[0mspace\u001b[0m\u001b[0;34m.\u001b[0m\u001b[0;34m\u001b[0m\u001b[0m\n\u001b[1;32m    883\u001b[0m         \"\"\"\n\u001b[0;32m--> 884\u001b[0;31m         \u001b[0membedding\u001b[0m \u001b[0;34m=\u001b[0m \u001b[0mself\u001b[0m\u001b[0;34m.\u001b[0m\u001b[0m_fit\u001b[0m\u001b[0;34m(\u001b[0m\u001b[0mX\u001b[0m\u001b[0;34m)\u001b[0m\u001b[0;34m\u001b[0m\u001b[0m\n\u001b[0m\u001b[1;32m    885\u001b[0m         \u001b[0mself\u001b[0m\u001b[0;34m.\u001b[0m\u001b[0membedding_\u001b[0m \u001b[0;34m=\u001b[0m \u001b[0membedding\u001b[0m\u001b[0;34m\u001b[0m\u001b[0m\n\u001b[1;32m    886\u001b[0m         \u001b[0;32mreturn\u001b[0m \u001b[0mself\u001b[0m\u001b[0;34m.\u001b[0m\u001b[0membedding_\u001b[0m\u001b[0;34m\u001b[0m\u001b[0m\n",
      "\u001b[0;32m/Users/olgabelitskaya/anaconda/lib/python3.5/site-packages/sklearn/manifold/t_sne.py\u001b[0m in \u001b[0;36m_fit\u001b[0;34m(self, X, skip_num_points)\u001b[0m\n\u001b[1;32m    787\u001b[0m                           \u001b[0mX_embedded\u001b[0m\u001b[0;34m=\u001b[0m\u001b[0mX_embedded\u001b[0m\u001b[0;34m,\u001b[0m\u001b[0;34m\u001b[0m\u001b[0m\n\u001b[1;32m    788\u001b[0m                           \u001b[0mneighbors\u001b[0m\u001b[0;34m=\u001b[0m\u001b[0mneighbors_nn\u001b[0m\u001b[0;34m,\u001b[0m\u001b[0;34m\u001b[0m\u001b[0m\n\u001b[0;32m--> 789\u001b[0;31m                           skip_num_points=skip_num_points)\n\u001b[0m\u001b[1;32m    790\u001b[0m \u001b[0;34m\u001b[0m\u001b[0m\n\u001b[1;32m    791\u001b[0m     def _tsne(self, P, degrees_of_freedom, n_samples, random_state,\n",
      "\u001b[0;32m/Users/olgabelitskaya/anaconda/lib/python3.5/site-packages/sklearn/manifold/t_sne.py\u001b[0m in \u001b[0;36m_tsne\u001b[0;34m(self, P, degrees_of_freedom, n_samples, random_state, X_embedded, neighbors, skip_num_points)\u001b[0m\n\u001b[1;32m    845\u001b[0m         \u001b[0mopt_args\u001b[0m\u001b[0;34m[\u001b[0m\u001b[0;34m'it'\u001b[0m\u001b[0;34m]\u001b[0m \u001b[0;34m=\u001b[0m \u001b[0mit\u001b[0m \u001b[0;34m+\u001b[0m \u001b[0;36m1\u001b[0m\u001b[0;34m\u001b[0m\u001b[0m\n\u001b[1;32m    846\u001b[0m         params, kl_divergence, it = _gradient_descent(obj_func, params,\n\u001b[0;32m--> 847\u001b[0;31m                                                       **opt_args)\n\u001b[0m\u001b[1;32m    848\u001b[0m         \u001b[0;32mif\u001b[0m \u001b[0mself\u001b[0m\u001b[0;34m.\u001b[0m\u001b[0mverbose\u001b[0m\u001b[0;34m:\u001b[0m\u001b[0;34m\u001b[0m\u001b[0m\n\u001b[1;32m    849\u001b[0m             print(\"[t-SNE] KL divergence after %d iterations with early \"\n",
      "\u001b[0;32m/Users/olgabelitskaya/anaconda/lib/python3.5/site-packages/sklearn/manifold/t_sne.py\u001b[0m in \u001b[0;36m_gradient_descent\u001b[0;34m(objective, p0, it, n_iter, objective_error, n_iter_check, n_iter_without_progress, momentum, learning_rate, min_gain, min_grad_norm, min_error_diff, verbose, args, kwargs)\u001b[0m\n\u001b[1;32m    386\u001b[0m     \u001b[0;32mfor\u001b[0m \u001b[0mi\u001b[0m \u001b[0;32min\u001b[0m \u001b[0mrange\u001b[0m\u001b[0;34m(\u001b[0m\u001b[0mit\u001b[0m\u001b[0;34m,\u001b[0m \u001b[0mn_iter\u001b[0m\u001b[0;34m)\u001b[0m\u001b[0;34m:\u001b[0m\u001b[0;34m\u001b[0m\u001b[0m\n\u001b[1;32m    387\u001b[0m         \u001b[0mnew_error\u001b[0m\u001b[0;34m,\u001b[0m \u001b[0mgrad\u001b[0m \u001b[0;34m=\u001b[0m \u001b[0mobjective\u001b[0m\u001b[0;34m(\u001b[0m\u001b[0mp\u001b[0m\u001b[0;34m,\u001b[0m \u001b[0;34m*\u001b[0m\u001b[0margs\u001b[0m\u001b[0;34m,\u001b[0m \u001b[0;34m**\u001b[0m\u001b[0mkwargs\u001b[0m\u001b[0;34m)\u001b[0m\u001b[0;34m\u001b[0m\u001b[0m\n\u001b[0;32m--> 388\u001b[0;31m         \u001b[0mgrad_norm\u001b[0m \u001b[0;34m=\u001b[0m \u001b[0mlinalg\u001b[0m\u001b[0;34m.\u001b[0m\u001b[0mnorm\u001b[0m\u001b[0;34m(\u001b[0m\u001b[0mgrad\u001b[0m\u001b[0;34m)\u001b[0m\u001b[0;34m\u001b[0m\u001b[0m\n\u001b[0m\u001b[1;32m    389\u001b[0m \u001b[0;34m\u001b[0m\u001b[0m\n\u001b[1;32m    390\u001b[0m         \u001b[0minc\u001b[0m \u001b[0;34m=\u001b[0m \u001b[0mupdate\u001b[0m \u001b[0;34m*\u001b[0m \u001b[0mgrad\u001b[0m \u001b[0;34m>=\u001b[0m \u001b[0;36m0.0\u001b[0m\u001b[0;34m\u001b[0m\u001b[0m\n",
      "\u001b[0;32m/Users/olgabelitskaya/anaconda/lib/python3.5/site-packages/scipy/linalg/misc.py\u001b[0m in \u001b[0;36mnorm\u001b[0;34m(a, ord, axis, keepdims)\u001b[0m\n\u001b[1;32m    127\u001b[0m     \"\"\"\n\u001b[1;32m    128\u001b[0m     \u001b[0;31m# Differs from numpy only in non-finite handling and the use of blas.\u001b[0m\u001b[0;34m\u001b[0m\u001b[0;34m\u001b[0m\u001b[0m\n\u001b[0;32m--> 129\u001b[0;31m     \u001b[0ma\u001b[0m \u001b[0;34m=\u001b[0m \u001b[0mnp\u001b[0m\u001b[0;34m.\u001b[0m\u001b[0masarray_chkfinite\u001b[0m\u001b[0;34m(\u001b[0m\u001b[0ma\u001b[0m\u001b[0;34m)\u001b[0m\u001b[0;34m\u001b[0m\u001b[0m\n\u001b[0m\u001b[1;32m    130\u001b[0m \u001b[0;34m\u001b[0m\u001b[0m\n\u001b[1;32m    131\u001b[0m     \u001b[0;31m# Only use optimized norms if axis and keepdims are not specified.\u001b[0m\u001b[0;34m\u001b[0m\u001b[0;34m\u001b[0m\u001b[0m\n",
      "\u001b[0;32m/Users/olgabelitskaya/anaconda/lib/python3.5/site-packages/numpy/lib/function_base.py\u001b[0m in \u001b[0;36masarray_chkfinite\u001b[0;34m(a, dtype, order)\u001b[0m\n\u001b[1;32m   1213\u001b[0m     \u001b[0;32mif\u001b[0m \u001b[0ma\u001b[0m\u001b[0;34m.\u001b[0m\u001b[0mdtype\u001b[0m\u001b[0;34m.\u001b[0m\u001b[0mchar\u001b[0m \u001b[0;32min\u001b[0m \u001b[0mtypecodes\u001b[0m\u001b[0;34m[\u001b[0m\u001b[0;34m'AllFloat'\u001b[0m\u001b[0;34m]\u001b[0m \u001b[0;32mand\u001b[0m \u001b[0;32mnot\u001b[0m \u001b[0mnp\u001b[0m\u001b[0;34m.\u001b[0m\u001b[0misfinite\u001b[0m\u001b[0;34m(\u001b[0m\u001b[0ma\u001b[0m\u001b[0;34m)\u001b[0m\u001b[0;34m.\u001b[0m\u001b[0mall\u001b[0m\u001b[0;34m(\u001b[0m\u001b[0;34m)\u001b[0m\u001b[0;34m:\u001b[0m\u001b[0;34m\u001b[0m\u001b[0m\n\u001b[1;32m   1214\u001b[0m         raise ValueError(\n\u001b[0;32m-> 1215\u001b[0;31m             \"array must not contain infs or NaNs\")\n\u001b[0m\u001b[1;32m   1216\u001b[0m     \u001b[0;32mreturn\u001b[0m \u001b[0ma\u001b[0m\u001b[0;34m\u001b[0m\u001b[0m\n\u001b[1;32m   1217\u001b[0m \u001b[0;34m\u001b[0m\u001b[0m\n",
      "\u001b[0;31mValueError\u001b[0m: array must not contain infs or NaNs"
     ]
    }
   ],
   "source": [
    "num_points = 400\n",
    "\n",
    "tsne = TSNE(perplexity=30, n_components=2, init='pca', n_iter=5000)\n",
    "two_d_embeddings = tsne.fit_transform(final_embeddings[1:num_points+1, :])"
   ]
  },
  {
   "cell_type": "code",
   "execution_count": null,
   "metadata": {
    "collapsed": true
   },
   "outputs": [],
   "source": [
    "def plot(embeddings, labels):\n",
    "    assert embeddings.shape[0] >= len(labels), 'More labels than embeddings'\n",
    "    pylab.figure(figsize=(15,15))  # in inches\n",
    "    for i, label in enumerate(labels):\n",
    "        x, y = embeddings[i,:]\n",
    "        pylab.scatter(x, y)\n",
    "        pylab.annotate(label, xy=(x, y), xytext=(5, 2), textcoords='offset points', ha='right', va='bottom')\n",
    "    pylab.show()\n",
    "\n",
    "words = [reverse_dictionary[i] for i in range(1, num_points+1)]\n",
    "plot(two_d_embeddings, words)"
   ]
  },
  {
   "cell_type": "markdown",
   "metadata": {},
   "source": [
    "Problem\n",
    "\n",
    "\n",
    "An alternative to skip-gram is another Word2Vec model called CBOW (Continuous Bag of Words). In the CBOW model, instead of predicting a context word from a word vector, you predict a word from the sum of all the word vectors in its context. Implement and evaluate a CBOW model trained on the text8 dataset."
   ]
  },
  {
   "cell_type": "code",
   "execution_count": null,
   "metadata": {
    "collapsed": true
   },
   "outputs": [],
   "source": []
  },
  {
   "cell_type": "code",
   "execution_count": null,
   "metadata": {
    "collapsed": true
   },
   "outputs": [],
   "source": []
  },
  {
   "cell_type": "code",
   "execution_count": null,
   "metadata": {
    "collapsed": true
   },
   "outputs": [],
   "source": []
  },
  {
   "cell_type": "code",
   "execution_count": null,
   "metadata": {
    "collapsed": true
   },
   "outputs": [],
   "source": []
  }
 ],
 "metadata": {
  "anaconda-cloud": {},
  "hide_input": false,
  "kernelspec": {
   "display_name": "Python [default]",
   "language": "python",
   "name": "python3"
  },
  "language_info": {
   "codemirror_mode": {
    "name": "ipython",
    "version": 3
   },
   "file_extension": ".py",
   "mimetype": "text/x-python",
   "name": "python",
   "nbconvert_exporter": "python",
   "pygments_lexer": "ipython3",
   "version": "3.5.2"
  },
  "latex_envs": {
   "bibliofile": "biblio.bib",
   "cite_by": "apalike",
   "current_citInitial": 1,
   "eqLabelWithNumbers": true,
   "eqNumInitial": 0
  }
 },
 "nbformat": 4,
 "nbformat_minor": 2
}
